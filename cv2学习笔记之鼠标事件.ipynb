{
 "cells": [
  {
   "cell_type": "markdown",
   "metadata": {},
   "source": [
    "## 鼠标事件"
   ]
  },
  {
   "cell_type": "code",
   "execution_count": null,
   "metadata": {
    "collapsed": true
   },
   "outputs": [],
   "source": [
    "#查看所有被支持的鼠标事件\n",
    "#鼠标事件可以是鼠标上的任何动作，比如左键按下，左键松开，左键双击等。\n",
    "#我们可以通过鼠标事件获得与鼠标对应的图片上的坐标\n",
    "import cv2\n",
    "events=[i for i in dir(cv2) if 'EVENT'in i]\n",
    "print events\n",
    "\n",
    "import cv2\n",
    "import numpy as np\n",
    "#mouse callback function\n",
    "def draw_circle(event,x,y,flags,param):\n",
    "  if event==cv2.EVENT_LBUTTONDOWN: #dan击\n",
    "      cv2.circle(img,(x,y),50,(255,255,255),-1)\n",
    "# 创建图像与窗口并将窗口与回调函数绑定\n",
    "img=np.zeros((512,512,3),np.uint8)\n",
    "cv2.namedWindow('image')\n",
    "cv2.setMouseCallback('image',draw_circle)\n",
    "while(1):\n",
    "    cv2.imshow('image',img)\n",
    "    if cv2.waitKey(20)&0xFF==5:\n",
    "        break\n",
    "cv2.destroyAllWindows()\n",
    "\n",
    "# 当鼠标按下时变为True\n",
    "drawing=False\n",
    "# 如果mode 为true 绘制矩形。按下'm' 变成绘制曲线。\n",
    "mode=True\n",
    "ix,iy=-1,-1\n",
    "# 创建回调函数\n",
    "def draw_circle(event,x,y,flags,param):\n",
    "    global ix,iy,drawing,mode #定义全局变量\n",
    "# 当按下左键是返回起始位置坐标\n",
    "    if event==cv2.EVENT_LBUTTONDOWN:\n",
    "        drawing=True\n",
    "        ix,iy=x,y\n",
    "# 当鼠标左键按下并移动是绘制图形。event 可以查看移动，flag 查看是否按下\n",
    "    elif event==cv2.EVENT_MOUSEMOVE and flags==cv2.EVENT_FLAG_LBUTTON:\n",
    "        if drawing==True:\n",
    "            if mode==True:\n",
    "                cv2.rectangle(img,(ix,iy),(x,y),(0,255,0),-1)\n",
    "            else:\n",
    "                cv2.circle(img,(x,y),3,(0,0,255),-1)\n",
    "# 绘制圆圈，小圆点连在一起就成了线，3 代表了笔画的粗细\n",
    "                        \n",
    "# 下面注释掉的代码是起始点为圆心，起点到终点为半径的\n",
    "# r=int(np.sqrt((x-ix)**2+(y-iy)**2))\n",
    "# cv2.circle(img,(x,y),r,(0,0,255),-1)\n",
    "# 当鼠标松开停止绘画。\n",
    "    elif event==cv2.EVENT_LBUTTONUP:\n",
    "        drawing==False\n",
    "        if mode==True:\n",
    "            cv2.rectangle(img,(ix,iy),(x,y),(0,255,0),-1)\n",
    "        else:\n",
    "            cv2.circle(img,(x,y),5,(0,0,255),-1)\n",
    "\n",
    "img=np.zeros((512,512,3),np.uint8)\n",
    "cv2.namedWindow('image')\n",
    "cv2.setMouseCallback('image',draw_circle)\n",
    "while(1):\n",
    "    cv2.imshow('image',img)\n",
    "    k=cv2.waitKey(1)&0xFF #被用来检测特定键是否被按下\n",
    "    if k==ord('m'):\n",
    "        mode=not mode\n",
    "    elif k==27:\n",
    "        break"
   ]
  }
 ],
 "metadata": {
  "kernelspec": {
   "display_name": "Python 2",
   "language": "python",
   "name": "python2"
  },
  "language_info": {
   "codemirror_mode": {
    "name": "ipython",
    "version": 2
   },
   "file_extension": ".py",
   "mimetype": "text/x-python",
   "name": "python",
   "nbconvert_exporter": "python",
   "pygments_lexer": "ipython2",
   "version": "2.7.13"
  }
 },
 "nbformat": 4,
 "nbformat_minor": 2
}
